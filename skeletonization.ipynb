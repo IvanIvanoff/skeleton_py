{
 "cells": [
  {
   "cell_type": "code",
   "execution_count": 56,
   "metadata": {},
   "outputs": [],
   "source": [
    "import numpy as np\n",
    "import cv2\n",
    "import matplotlib.pyplot as plt\n",
    "import seaborn as sns"
   ]
  },
  {
   "cell_type": "markdown",
   "metadata": {},
   "source": [
    "# Морфологична скелетонизация на изображения"
   ]
  },
  {
   "cell_type": "markdown",
   "metadata": {},
   "source": [
    "## Скелетонизация\n",
    "\n",
    "### Дефиниция\n",
    "Скелетонизацията е трансформация, която се извършва над бинаризирани изображения. Тази трансформация се изразява в намаляването на броя на пикселите от изображението до изображение с ширина 1 пиксел, което в голяма степен запазва формата и свързаността на оригиналния регион, но в същото време по-голямата част от пикселите на изображението се изключват. Това получено изображение прилича на скелет, откъдето идва и името на трансформацията. Скелетонът съдържа тези пиксели, които са на еднакво разстояние от границите на изображението.\n",
    "\n",
    "Скелетонът запазва и показва топологичните и геометричните свойства на изображението - свързаност, топология, дължина, посока и ширина.\n",
    "\n",
    "Скелетонизацията е необратима операция. При нея част от информацията се губи и в много случаи оригиналното изображение не може точно да бъде възстановено. Нуждата от възстановяване на оригиналното изображение би означавало, че скелетонизацията се използва като компресия, но тя не се ползва за това в практиката.\n",
    "\n",
    "### Приложение\n",
    "Скелетонизация е полезна в следните случаи, но не само:\n",
    "- По-бързо изпълнение на алгоритми, които биха отнели много време върху оригиналното изображения или биха имали трудност при работа с оригиналното изображение\n",
    "  -  Работа с пръстови отпечатъци. Прилагане на скелетонизация, в комплект с други методи за обработка, може значително да подобри изображението<sup>1</sup>\n",
    "  <div><img alt=\"Example of skeletonization of a fingerprint\" src=\"images/skeleton_fingerprint.png\" width=\"1200\"/></div>\n",
    "  - Разпознаване на жестове на ръка. Работата с оригиналното изображение е по-трудна и отнема повече ресурси. Скелетонизацията на пръстите на ръката води до по-лесна работа с тези изображения.\n",
    "\n",
    "### Пример\n",
    "Как изглежда едно изображение след като е скелетонизирано най-лесно се разбира с пример<sup>2</sup>:\n",
    "<div><img alt=\"Example of skeletonization of a horse binary image\" src=\"images/skeleton_horse.png\" width=\"500\"/></div>\n"
   ]
  },
  {
   "cell_type": "markdown",
   "metadata": {},
   "source": [
    "## Морфологична операция\n",
    "Морфологичната операция принадлежи към класа на нелинейните оператори за съседство. Стойността на всеки пиксел се опрделя от стойностите на пиксели, които са в съседство с него. Чрез настройване на размера и формата, определящи кои пиксели са съседни, се конструират морфологични операции, които са чувствителни към специфични форми във входното изображение.\n",
    "\n",
    "Две от най-базовите морфологични операции са Ерозия и Дилатация. Ерозията е операция, която премахва пиксели от границата на изображения, а дилатацията добавя пиксели към границата.\n",
    "\n",
    "Съседството се дефинира като структурен елемент - матрица от числата 0 или 1. Пикселът, с който работим, е централният пиксел. Честа практика, за да има такъв централен пиксел, е размерите на структурния елемент да са нечетни числа. При прилагане на операция за съседени пиксели на даден пиксел се приемат само пиксели, които при налагане на структурния елемент върху изображението имат стойност 1.\n",
    "\n",
    "По-долу са показани два структурни елемента с различна форма - елипса и кръст. Всички бели пиксели (стойност 1 в структурния елемент) са съседни на централния пиксел. Всички черни пиксели (стойност 0 в структурния елемент) не са съседни на централния пиксел."
   ]
  },
  {
   "cell_type": "code",
   "execution_count": 55,
   "metadata": {},
   "outputs": [
    {
     "data": {
      "text/plain": [
       "<AxesSubplot:title={'center':'Cross Structure Element'}>"
      ]
     },
     "execution_count": 55,
     "metadata": {},
     "output_type": "execute_result"
    },
    {
     "data": {
      "image/png": "[encoded data removed]",
      "text/plain": [
       "<Figure size 1080x1080 with 4 Axes>"
      ]
     },
     "metadata": {
      "needs_background": "light"
     },
     "output_type": "display_data"
    }
   ],
   "source": [
    "# Ellipse structure element\n",
    "ellipse_se = cv2.getStructuringElement(cv2.MORPH_ELLIPSE, (7, 7))\n",
    "cross_se = cv2.getStructuringElement(cv2.MORPH_CROSS, (7,7))\n",
    "rect_se = cv2.getStructuringElement(cv2.MORPH_RECT, (7,7))\n",
    "\n",
    "fig, (ax1, ax2, ax3, ax4) = plt.subplots(1, 4, figsize=(15, 15))\n",
    "ax1.set_title('Ellipse Structure Element')\n",
    "ax1.imshow(ellipse_se, 'gray')\n",
    "ax2.set_title('Ellipse Structure Element')\n",
    "sns.heatmap(ellipse_se, annot=True, cmap='gist_earth', ax=ax2, cbar=False, square=True)\n",
    "\n",
    "ax3.set_title('Cross Structure Element')\n",
    "ax3.imshow(cross_se, 'gray')\n",
    "ax4.set_title('Cross Structure Element')\n",
    "sns.heatmap(cross_se, annot=True, cmap='gist_earth', ax=ax4, cbar=False, square=True)\n"
   ]
  },
  {
   "cell_type": "markdown",
   "metadata": {},
   "source": [
    "## Морфологична операция Ерозия\n",
    "- Представя се със символа ⊖\n",
    "- Носи името си от ерозията в реалния свят. Под ерозия в реалния свят разбираме процес, при който под някакво външно въздействие се премахва слой от почвата/скалите. Естественият темп на ерозия се контролира от действието на геоморфологични подбудители като дъжд, износване на скалната основа в реките, брегова ерозия от морето и вълните, ледниково теглене, абразия, наводнения, ветрова абразия, подземни води и свлачища.\n",
    "\n",
    "### Дефиниция\n",
    "Нека E е числова матрица и A е бинарно изображение в E. Ерозия върху изображението A със структурен елемент B дефинираме като:\n",
    "\n",
    "$$A\\ominus B=\\{z\\in E|B_{{z}}\\subseteq A\\}$$\n",
    "където B<sub>z</sub> е транслацията на B с вектор z: $$ {\\displaystyle}B_{z}=\\{b+z|b\\in B\\}, {\\displaystyle}\\forall z\\in E.$$\n",
    "\n",
    "Неформално, за всеки пиксел поставяме стойност, която е минималната стойност на пиксел в съседство. Това означава, че пиксели, които имат за съсед пиксел от фона, ще получат стойност 0 (черен цвят, фон). Основното действие на ерозията се изразява в намаляване (ерозиране) на границите на изображението и увеличаване на дупките в него."
   ]
  },
  {
   "cell_type": "markdown",
   "metadata": {},
   "source": [
    "## Морфологична операция Дилатация\n",
    "\n",
    "### Дефиниция\n",
    "\n",
    "### Пример\n"
   ]
  },
  {
   "cell_type": "markdown",
   "metadata": {},
   "source": [
    "Източници:\n",
    "[1] - https://en.wikipedia.org/wiki/Morphological_skeleton\n",
    "[2] - https://medium.com/analytics-vidhya/skeletonization-in-python-using-opencv-b7fa16867331"
   ]
  },
  {
   "cell_type": "code",
   "execution_count": null,
   "metadata": {},
   "outputs": [],
   "source": []
  }
 ],
 "metadata": {
  "kernelspec": {
   "display_name": "Python 3 (ipykernel)",
   "language": "python",
   "name": "python3"
  },
  "language_info": {
   "codemirror_mode": {
    "name": "ipython",
    "version": 3
   },
   "file_extension": ".py",
   "mimetype": "text/x-python",
   "name": "python",
   "nbconvert_exporter": "python",
   "pygments_lexer": "ipython3",
   "version": "3.8.12"
  }
 },
 "nbformat": 4,
 "nbformat_minor": 4
}
